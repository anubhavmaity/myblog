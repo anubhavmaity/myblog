{
 "cells": [
  {
   "cell_type": "raw",
   "id": "38b8f7f7-af18-4343-92fd-4bb8ad58b1d2",
   "metadata": {},
   "source": [
    "---\n",
    "title: \"Efficient Local Sensitive Hashing: Loop-Free Implementation\"\n",
    "description: \"My implementation of Local Sensitive Hashing with zero loop - only tensor operations\"\n",
    "author: \"Anubhav Maity\"\n",
    "date: \"09/11/2023\"\n",
    "draft: false\n",
    "---"
   ]
  },
  {
   "cell_type": "markdown",
   "id": "aefe27fc",
   "metadata": {},
   "source": [
    "# Locality Sensitive Hashing (LSH)"
   ]
  },
  {
   "cell_type": "markdown",
   "id": "c173ea7d-feb6-40c5-b452-29da2098ba37",
   "metadata": {},
   "source": [
    "In this blog post I have tried explaining and implementing local sensitive hashing with zero loops i.e. only tensor operations. Let's dive in."
   ]
  },
  {
   "cell_type": "markdown",
   "id": "7c01c11a",
   "metadata": {},
   "source": [
    "Local sensitive hashing (LSH) is a technique used in approximate nearest neighbor search and similarity-based retrieval tasks. LSH helps in efficiently finding similar items or reducing the search space for similarity queries.\n",
    "\n",
    "LSH works by hashing similar items into the same or nearby hash buckets with a high probability. It operates on the principle that if two items are similar, they are likely to collide (hash to the same bucket) under a certain hash function.\n",
    "\n",
    "LSH is \"local sensitive\" because it ensures that nearby items have a higher probability of being hashed into the same bucket, while items that are far apart have a lower probability of colliding. This property allows for efficient pruning of the search space, as we can focus the search on the items within the same hash buckets.\n",
    "\n",
    "There are different types of LSH algorithms designed for various data types and similarity measures. Some common examples include MinHash for document similarity, SimHash for binary data, and L2-LSH for Euclidean distance-based similarity.\n",
    "\n",
    "LSH is particularly useful in scenarios where traditional exact search methods become impractical due to high-dimensional data or large dataset sizes. It allows for approximate similarity search with reduced computational complexity, making it a valuable tool in various applications like recommendation systems, image retrieval, and DNA sequence matching."
   ]
  },
  {
   "cell_type": "code",
   "execution_count": null,
   "id": "82ee6b00-d7bd-40f4-b99b-f9ed7b2b4fe3",
   "metadata": {},
   "outputs": [],
   "source": [
    "#!pip install fastcore\n",
    "#!pip install nbdev"
   ]
  },
  {
   "cell_type": "code",
   "execution_count": null,
   "id": "62724cdf",
   "metadata": {},
   "outputs": [],
   "source": [
    "#| default_exp lsh"
   ]
  },
  {
   "cell_type": "code",
   "execution_count": null,
   "id": "4ca577b8",
   "metadata": {},
   "outputs": [],
   "source": [
    "#|export\n",
    "import matplotlib.pyplot as plt\n",
    "import torch\n",
    "from fastcore.all import patch"
   ]
  },
  {
   "cell_type": "code",
   "execution_count": null,
   "id": "980ec4ca",
   "metadata": {},
   "outputs": [],
   "source": [
    "#|export\n",
    "torch.manual_seed(42)\n",
    "torch.set_printoptions(precision=3, linewidth=140, sci_mode=False)"
   ]
  },
  {
   "cell_type": "markdown",
   "id": "31ecb957",
   "metadata": {},
   "source": [
    "I defined the class `FastLSH` below which takes the following arguments\n",
    "- dimensions: This is the number of features in the dataset. The higher the number of dimensions, the more complex the LSH algorithm will be.\n",
    "- hash_length: This is the length of the hash value. The longer the hash value, the more accurate the LSH algorithm will be. However, a longer hash value will also take longer to compute.\n",
    "- number_hash_tables: This is the number of hash tables that are used by the LSH algorithm. The more hash tables, the more likely it is that two similar items will be hashed to the same table. However, a larger number of hash tables will also take longer to search.\n",
    "- hash_table: This is a data structure that stores the hash values of the items in the dataset. The hash table is used to quickly find items that have similar hash values."
   ]
  },
  {
   "cell_type": "code",
   "execution_count": null,
   "id": "c35ad4bf",
   "metadata": {},
   "outputs": [],
   "source": [
    "#|export\n",
    "class FastLSH:\n",
    "    def __init__(self, dim, nht, hl):\n",
    "        self.dimensions = dim # dimensions of the data\n",
    "        self.num_hash_tables = nht # number of hash tables\n",
    "        self.hash_length = hl # hash length\n",
    "        self.hash_table = torch.randn(self.num_hash_tables, self.hash_length, self.dimensions) # the hashtable"
   ]
  },
  {
   "cell_type": "code",
   "execution_count": null,
   "id": "1f395f91",
   "metadata": {},
   "outputs": [],
   "source": [
    "fastlsh = FastLSH(dim=2, nht=5, hl=10)"
   ]
  },
  {
   "cell_type": "code",
   "execution_count": null,
   "id": "69e67adc",
   "metadata": {},
   "outputs": [
    {
     "data": {
      "text/plain": [
       "torch.Size([5, 10, 2])"
      ]
     },
     "execution_count": null,
     "metadata": {},
     "output_type": "execute_result"
    }
   ],
   "source": [
    "fastlsh.hash_table.shape"
   ]
  },
  {
   "cell_type": "code",
   "execution_count": null,
   "id": "89d6296a",
   "metadata": {},
   "outputs": [
    {
     "data": {
      "text/plain": [
       "(torch.Size([150000, 2]), torch.Size([1, 2]))"
      ]
     },
     "execution_count": null,
     "metadata": {},
     "output_type": "execute_result"
    }
   ],
   "source": [
    "data = torch.randn(150_000, 2) # data\n",
    "query = data[0][None] # query, adding a unit axis at the start\n",
    "data.shape, query.shape"
   ]
  },
  {
   "cell_type": "markdown",
   "id": "029c686d",
   "metadata": {},
   "source": [
    "The purpose of the following `hashing` code is to apply hash functions to each data point in the input tensor. It performs a cosine similarity between the query and the hashtable, generating hash codes for every data point in the query. The resulting tensor contains these hash codes.\n",
    "\n",
    "The patch decorator patches the function to the LSH class. More about patch [here](https://fastcore.fast.ai/basics.html#patch)"
   ]
  },
  {
   "cell_type": "code",
   "execution_count": null,
   "id": "aabbef04",
   "metadata": {},
   "outputs": [],
   "source": [
    "#|export\n",
    "@patch\n",
    "def hashing(self:FastLSH, query): \n",
    "    return (((query[:, None, None]) * self.hash_table).sum(-1) >= 0).long()"
   ]
  },
  {
   "cell_type": "markdown",
   "id": "ba3440fa",
   "metadata": {},
   "source": [
    "Let's utilize the hashing function mentioned above to hash both the query and data points."
   ]
  },
  {
   "cell_type": "code",
   "execution_count": null,
   "id": "6a90fec8",
   "metadata": {},
   "outputs": [
    {
     "data": {
      "text/plain": [
       "torch.Size([150000, 5, 10])"
      ]
     },
     "execution_count": null,
     "metadata": {},
     "output_type": "execute_result"
    }
   ],
   "source": [
    "data_hash = fastlsh.hashing(data)\n",
    "data_hash.shape"
   ]
  },
  {
   "cell_type": "markdown",
   "id": "0b5256a9",
   "metadata": {},
   "source": [
    "Based on the obtained data_hash.shape from the above, we can observe that each of the 150_000 data points has been hashed using 5 hash functions, resulting in hash codes of length 10 for each data point."
   ]
  },
  {
   "cell_type": "code",
   "execution_count": null,
   "id": "d9c859ee",
   "metadata": {},
   "outputs": [
    {
     "data": {
      "text/plain": [
       "torch.Size([1, 5, 10])"
      ]
     },
     "execution_count": null,
     "metadata": {},
     "output_type": "execute_result"
    }
   ],
   "source": [
    "query_hash = fastlsh.hashing(query)\n",
    "query_hash.shape"
   ]
  },
  {
   "cell_type": "markdown",
   "id": "c878313b",
   "metadata": {},
   "source": [
    "Now, let's proceed to obtain the indexes of `data` where the hash code of each `data` point matches the hash code of the `query` point."
   ]
  },
  {
   "cell_type": "markdown",
   "id": "cfe62ea9",
   "metadata": {},
   "source": [
    "To determine if the hash codes are the same, we can begin by calculating the dot product along the last axis and dividing it by the sum of the corresponding axis in the data. If the resulting values are equal to 1, it indicates that the hash codes are the same. Otherwise, if the values differ from 1, it implies that the hash codes are not the same."
   ]
  },
  {
   "cell_type": "code",
   "execution_count": null,
   "id": "4e08440f",
   "metadata": {},
   "outputs": [
    {
     "data": {
      "text/plain": [
       "tensor([[4, 5, 2, 6, 5],\n",
       "        [1, 3, 2, 2, 3],\n",
       "        [4, 3, 0, 4, 3],\n",
       "        ...,\n",
       "        [2, 3, 2, 5, 4],\n",
       "        [1, 3, 2, 3, 3],\n",
       "        [0, 1, 2, 2, 1]])"
      ]
     },
     "execution_count": null,
     "metadata": {},
     "output_type": "execute_result"
    }
   ],
   "source": [
    "(query_hash * data_hash).sum(-1)"
   ]
  },
  {
   "cell_type": "code",
   "execution_count": null,
   "id": "1d599393",
   "metadata": {},
   "outputs": [
    {
     "data": {
      "text/plain": [
       "tensor([[ 4,  5,  2,  6,  5],\n",
       "        [ 4,  8,  9,  6,  6],\n",
       "        [ 6,  3,  0,  4,  5],\n",
       "        ...,\n",
       "        [ 5,  6,  4,  8,  4],\n",
       "        [ 4,  7,  7,  7,  6],\n",
       "        [ 4,  6, 10,  6,  4]])"
      ]
     },
     "execution_count": null,
     "metadata": {},
     "output_type": "execute_result"
    }
   ],
   "source": [
    "data_hash.sum(-1)"
   ]
  },
  {
   "cell_type": "code",
   "execution_count": null,
   "id": "1352e934",
   "metadata": {},
   "outputs": [
    {
     "data": {
      "text/plain": [
       "torch.Size([150000, 5, 10])"
      ]
     },
     "execution_count": null,
     "metadata": {},
     "output_type": "execute_result"
    }
   ],
   "source": [
    "(query_hash * data_hash).shape"
   ]
  },
  {
   "cell_type": "code",
   "execution_count": null,
   "id": "9f45ae6f",
   "metadata": {},
   "outputs": [
    {
     "data": {
      "text/plain": [
       "tensor([[1.000, 1.000, 1.000, 1.000, 1.000],\n",
       "        [0.250, 0.375, 0.222, 0.333, 0.500],\n",
       "        [0.667, 1.000,   nan, 1.000, 0.600],\n",
       "        ...,\n",
       "        [0.400, 0.500, 0.500, 0.625, 1.000],\n",
       "        [0.250, 0.429, 0.286, 0.429, 0.500],\n",
       "        [0.000, 0.167, 0.200, 0.333, 0.250]])"
      ]
     },
     "execution_count": null,
     "metadata": {},
     "output_type": "execute_result"
    }
   ],
   "source": [
    "(query_hash * data_hash).sum(-1) / data_hash.sum(-1) "
   ]
  },
  {
   "cell_type": "code",
   "execution_count": null,
   "id": "b55b2c0e",
   "metadata": {},
   "outputs": [
    {
     "data": {
      "text/plain": [
       "tensor([[ True,  True,  True,  True,  True],\n",
       "        [False, False, False, False, False],\n",
       "        [False,  True, False,  True, False],\n",
       "        ...,\n",
       "        [False, False, False, False,  True],\n",
       "        [False, False, False, False, False],\n",
       "        [False, False, False, False, False]])"
      ]
     },
     "execution_count": null,
     "metadata": {},
     "output_type": "execute_result"
    }
   ],
   "source": [
    "result = ( (query_hash * data_hash).sum(-1) / data_hash.sum(-1) ) == 1\n",
    "result"
   ]
  },
  {
   "cell_type": "markdown",
   "id": "a5666a9c",
   "metadata": {},
   "source": [
    "We can obtain the indices where the values are True using the following code."
   ]
  },
  {
   "cell_type": "code",
   "execution_count": null,
   "id": "511a575c",
   "metadata": {},
   "outputs": [
    {
     "data": {
      "text/plain": [
       "torch.Size([50337])"
      ]
     },
     "execution_count": null,
     "metadata": {},
     "output_type": "execute_result"
    }
   ],
   "source": [
    "result_indices = torch.nonzero(torch.any(result, dim=1)).flatten()\n",
    "result_indices.shape"
   ]
  },
  {
   "cell_type": "code",
   "execution_count": null,
   "id": "9da5201e",
   "metadata": {},
   "outputs": [
    {
     "data": {
      "text/plain": [
       "torch.Size([50337, 2])"
      ]
     },
     "execution_count": null,
     "metadata": {},
     "output_type": "execute_result"
    }
   ],
   "source": [
    "data[result_indices].shape"
   ]
  },
  {
   "cell_type": "markdown",
   "id": "42653006",
   "metadata": {},
   "source": [
    "Now that we have obtained the indices, let's proceed to compute the Euclidean distance (L2 norm).\n",
    "\n",
    "To compute the Euclidean distance, we don't need to calculate the distance from every one of the 150_000 points. Instead, we only need to compute the distance from the points where the hash codes are the same, as we have already determined from the indices obtained."
   ]
  },
  {
   "cell_type": "code",
   "execution_count": null,
   "id": "a05a91dd",
   "metadata": {},
   "outputs": [
    {
     "data": {
      "text/plain": [
       "torch.Size([50337])"
      ]
     },
     "execution_count": null,
     "metadata": {},
     "output_type": "execute_result"
    }
   ],
   "source": [
    "((query - data[result_indices])**2).sum(-1).sqrt().shape"
   ]
  },
  {
   "cell_type": "markdown",
   "id": "7d78d35d",
   "metadata": {},
   "source": [
    "We can consolidate all of the aforementioned operations into a single function by defining the following function"
   ]
  },
  {
   "cell_type": "code",
   "execution_count": null,
   "id": "abb1ca30",
   "metadata": {},
   "outputs": [],
   "source": [
    "#|export\n",
    "@patch\n",
    "def query_neigbours(self:FastLSH, query, data, data_hash, neighbours=10):\n",
    "    query_hash = self.hashing(query)\n",
    "    result = ( (query_hash * data_hash).sum(-1) / data_hash.sum(-1) ) == 1\n",
    "    result_indices = torch.nonzero(torch.any(result, dim=1)).flatten()\n",
    "    \n",
    "    dist = ((query - data[result_indices]) ** 2).sum(-1).sqrt()\n",
    "    sorted_dist, idx = torch.sort(dist)\n",
    "    \n",
    "    \n",
    "    return sorted_dist[:neighbours], result_indices[idx[:neighbours]]"
   ]
  },
  {
   "cell_type": "code",
   "execution_count": null,
   "id": "85db67dd",
   "metadata": {},
   "outputs": [
    {
     "data": {
      "text/plain": [
       "torch.Size([1, 2])"
      ]
     },
     "execution_count": null,
     "metadata": {},
     "output_type": "execute_result"
    }
   ],
   "source": [
    "query = data[0][None]; query.shape"
   ]
  },
  {
   "cell_type": "code",
   "execution_count": null,
   "id": "d45615b5",
   "metadata": {},
   "outputs": [
    {
     "data": {
      "text/plain": [
       "(tensor([0.000, 0.004, 0.004, 0.005, 0.007, 0.007, 0.009, 0.009, 0.009, 0.010]),\n",
       " tensor([     0,  16866,  13708,  29511,  37183,  31814,   9378, 122251, 131806,   4483]))"
      ]
     },
     "execution_count": null,
     "metadata": {},
     "output_type": "execute_result"
    }
   ],
   "source": [
    "data_hash = fastlsh.hashing(data)\n",
    "fastlsh.query_neigbours(query, data, data_hash, 10)"
   ]
  },
  {
   "cell_type": "code",
   "execution_count": null,
   "id": "31917841",
   "metadata": {},
   "outputs": [
    {
     "name": "stdout",
     "output_type": "stream",
     "text": [
      "11.9 ms ± 643 µs per loop (mean ± std. dev. of 7 runs, 5 loops each)\n"
     ]
    }
   ],
   "source": [
    "%timeit -n 5 _=fastlsh.query_neigbours(query, data, data_hash, 10)"
   ]
  },
  {
   "cell_type": "markdown",
   "id": "08eff228",
   "metadata": {},
   "source": [
    "### GPU "
   ]
  },
  {
   "cell_type": "markdown",
   "id": "7388e901",
   "metadata": {},
   "source": [
    "I'm currently unable to determine how to pass batches of query points for computing the hash and obtaining the distances. As a temporary solution, I'm passing a single query point and the data as CUDA. Let's see if this optimization yields better results compared to the CPU version mentioned above."
   ]
  },
  {
   "cell_type": "code",
   "execution_count": null,
   "id": "39b45d3d",
   "metadata": {},
   "outputs": [],
   "source": [
    "data_cuda = data.cuda()\n",
    "query_cuda = query.cuda()\n",
    "fastlsh.hash_table = fastlsh.hash_table.cuda()"
   ]
  },
  {
   "cell_type": "code",
   "execution_count": null,
   "id": "085d59a5-6a01-45d1-bbb4-9e97d23dfe27",
   "metadata": {},
   "outputs": [],
   "source": [
    "data_hash_cuda = fastlsh.hashing(data_cuda)"
   ]
  },
  {
   "cell_type": "code",
   "execution_count": null,
   "id": "f22fe047-cc57-4750-b373-84f845269b64",
   "metadata": {},
   "outputs": [
    {
     "data": {
      "text/plain": [
       "(tensor([0.000, 0.004, 0.004, 0.005, 0.007, 0.007, 0.009, 0.009, 0.009, 0.010], device='cuda:0'),\n",
       " tensor([     0,  16866,  13708,  29511,  37183,  31814,   9378, 122251, 131806,   4483], device='cuda:0'))"
      ]
     },
     "execution_count": null,
     "metadata": {},
     "output_type": "execute_result"
    }
   ],
   "source": [
    "fastlsh.query_neigbours(query_cuda, data_cuda, data_hash_cuda, 10)"
   ]
  },
  {
   "cell_type": "code",
   "execution_count": null,
   "id": "5a55fadf-b60b-4e84-940b-1d1a2e72a393",
   "metadata": {},
   "outputs": [
    {
     "name": "stdout",
     "output_type": "stream",
     "text": [
      "739 µs ± 30.9 µs per loop (mean ± std. dev. of 7 runs, 5 loops each)\n"
     ]
    }
   ],
   "source": [
    "%timeit -n 5 _=fastlsh.query_neigbours(query_cuda, data_cuda, data_hash_cuda, 10)"
   ]
  },
  {
   "cell_type": "markdown",
   "id": "5047aee7-77ba-4ed2-a46c-fef23dac4be0",
   "metadata": {},
   "source": [
    "The GPU computation is 15x faster"
   ]
  },
  {
   "cell_type": "code",
   "execution_count": null,
   "id": "3e50e9df-2bee-40a8-b96c-1cc248506322",
   "metadata": {},
   "outputs": [],
   "source": [
    "#| hide\n",
    "import nbdev; nbdev.nbdev_export()"
   ]
  },
  {
   "cell_type": "code",
   "execution_count": null,
   "id": "f4954af6-a1a7-4190-afef-d8b5af41ba93",
   "metadata": {},
   "outputs": [],
   "source": []
  }
 ],
 "metadata": {
  "kernelspec": {
   "display_name": "zhnn",
   "language": "python",
   "name": "zhnn"
  },
  "language_info": {
   "codemirror_mode": {
    "name": "ipython",
    "version": 3
   },
   "file_extension": ".py",
   "mimetype": "text/x-python",
   "name": "python",
   "nbconvert_exporter": "python",
   "pygments_lexer": "ipython3",
   "version": "3.7.12"
  }
 },
 "nbformat": 4,
 "nbformat_minor": 5
}
