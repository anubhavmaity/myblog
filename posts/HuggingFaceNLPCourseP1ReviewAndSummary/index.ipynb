{
 "cells": [
  {
   "cell_type": "raw",
   "id": "adadf585-9914-438e-bfc8-37e826b0cd76",
   "metadata": {},
   "source": [
    "---\n",
    "title: \"Hugging Face NLP Course Part 1: A Review\"\n",
    "description: \"My review and summary of Hugging Face NLP Course Part 1\"\n",
    "author: \"Anubhav Maity\"\n",
    "date: \"09/03/2023\"\n",
    "draft: true\n",
    "---"
   ]
  },
  {
   "cell_type": "markdown",
   "id": "045f9378-e75f-4ee1-8587-5a4378c0ccf7",
   "metadata": {},
   "source": [
    "I had my eye on the [Hugging Face NLP Course](https://huggingface.co/learn/nlp-course/chapter1/1) since it was released in 2021, but various commitments kept delaying my progress. However, when I found myself immersed in a [Kaggle competition](https://www.kaggle.com/competitions/kaggle-llm-science-exam) centered around Large Language Models (LLM), I decided it was the perfect moment to dive into Part 1 of this course. After completing it, I couldn't wait to share my review.\n",
    "\n",
    "The course is thoughtfully divided into three parts:\n",
    "\n",
    "- Introduction\n",
    "- Going Deeper\n",
    "- Advanced\n",
    "\n",
    "The Part 1, the Introduction, comprises of four chapters:\n",
    "\n",
    "- Transformer Models\n",
    "- Using Transformers\n",
    "- Fine-Tuning a Pretrained Model\n",
    "- Sharing Models and Tokenizers\n",
    "\n",
    "What's great about this course is its top-down approach. It starts with the big picture and gradually delves into the finer details. Plus, it caters to different learning styles by offering both video and text lessons. The course heavily relies on Hugging Face's tools, making it practical and hands-on.\n",
    "\n",
    "One standout feature is the series of exercises. Labeled as \"Try it out!\" sections, they provide clear guidance on what to do next, offering a hands-on learning experience. Each chapter wraps up with a helpful summary and an \"End-of-Chapter\" quiz to help you gauge your newly acquired knowledge.\n",
    "\n",
    "Please find my notes and exercises (\"Try it out!\" sections) [here](https://github.com/anubhavmaity/transformers-course).\n",
    "\n",
    "In conclusion, I wholeheartedly recommend this course if you're eager to delve into Natural Language Processing (NLP) and explore the Hugging Face tooling ecosystem. It serves as an excellent starting point for those looking to wade into the fascinating world of NLP."
   ]
  },
  {
   "cell_type": "code",
   "execution_count": null,
   "id": "47f4f9f9-275d-4347-93b3-958e872d8661",
   "metadata": {},
   "outputs": [],
   "source": []
  }
 ],
 "metadata": {
  "kernelspec": {
   "display_name": "transformers-course",
   "language": "python",
   "name": "transformers-course"
  },
  "language_info": {
   "codemirror_mode": {
    "name": "ipython",
    "version": 3
   },
   "file_extension": ".py",
   "mimetype": "text/x-python",
   "name": "python",
   "nbconvert_exporter": "python",
   "pygments_lexer": "ipython3",
   "version": "3.9.17"
  }
 },
 "nbformat": 4,
 "nbformat_minor": 5
}
