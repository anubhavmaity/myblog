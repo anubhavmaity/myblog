{
 "cells": [
  {
   "cell_type": "raw",
   "id": "adadf585-9914-438e-bfc8-37e826b0cd76",
   "metadata": {},
   "source": [
    "---\n",
    "title: \"Hugging Face NLP Course Part 1: A Review\"\n",
    "description: \"My review and summary of Hugging Face NLP Course Part 1\"\n",
    "author: \"Anubhav Maity\"\n",
    "date: \"09/03/2023\"\n",
    "draft: true\n",
    "---"
   ]
  },
  {
   "cell_type": "markdown",
   "id": "9b72e6ae-45c1-406f-b1ec-4c07d3d738fa",
   "metadata": {},
   "source": [
    "# Hugging Face NLP Course Part 1: A Review"
   ]
  },
  {
   "cell_type": "code",
   "execution_count": null,
   "id": "009f7e5b-d327-4f74-8e95-1a70be17d7a7",
   "metadata": {},
   "outputs": [],
   "source": []
  }
 ],
 "metadata": {
  "kernelspec": {
   "display_name": "transformers-course",
   "language": "python",
   "name": "transformers-course"
  },
  "language_info": {
   "codemirror_mode": {
    "name": "ipython",
    "version": 3
   },
   "file_extension": ".py",
   "mimetype": "text/x-python",
   "name": "python",
   "nbconvert_exporter": "python",
   "pygments_lexer": "ipython3",
   "version": "3.9.17"
  }
 },
 "nbformat": 4,
 "nbformat_minor": 5
}
